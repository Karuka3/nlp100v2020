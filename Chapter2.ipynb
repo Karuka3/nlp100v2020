{
 "cells": [
  {
   "cell_type": "markdown",
   "metadata": {},
   "source": [
    "# 第2章: UNIXコマンド"
   ]
  },
  {
   "cell_type": "code",
   "execution_count": 1,
   "metadata": {},
   "outputs": [],
   "source": [
    "with open(\"data\\popular-names.txt\") as f:\n",
    "    data = f.readlines()"
   ]
  },
  {
   "cell_type": "markdown",
   "metadata": {},
   "source": [
    "## 10. 行数のカウント"
   ]
  },
  {
   "cell_type": "code",
   "execution_count": 2,
   "metadata": {},
   "outputs": [],
   "source": [
    "print(len(data))"
   ]
  },
  {
   "cell_type": "markdown",
   "metadata": {},
   "source": [
    "## 11. タブをスペースに置換"
   ]
  },
  {
   "cell_type": "code",
   "execution_count": 3,
   "metadata": {},
   "outputs": [],
   "source": [
    "data2 = [d.replace(\"\\t\", \" \") for d in data]"
   ]
  },
  {
   "cell_type": "markdown",
   "metadata": {},
   "source": [
    "## 12. 1列目をcol1.txtに，2列目をcol2.txtに保存\n"
   ]
  },
  {
   "cell_type": "code",
   "execution_count": 26,
   "metadata": {},
   "outputs": [],
   "source": [
    "col1 = [d.split(\"\\t\")[0] for d in data]\n",
    "col2 = [d.split(\"\\t\")[1] for d in data]"
   ]
  },
  {
   "cell_type": "code",
   "execution_count": 5,
   "metadata": {},
   "outputs": [],
   "source": [
    "with open(\"data\\col1.txt\", mode=\"w\") as f:\n",
    "    for i in col1:\n",
    "        f.write(i + \"\\n\")\n",
    "with open(\"data\\col2.txt\", mode=\"w\") as f:\n",
    "    for i in col2:\n",
    "        f.write(i + \"\\n\")"
   ]
  },
  {
   "cell_type": "markdown",
   "metadata": {},
   "source": [
    "## 13. col1.txtとcol2.txtをマージ"
   ]
  },
  {
   "cell_type": "code",
   "execution_count": 6,
   "metadata": {},
   "outputs": [],
   "source": [
    "with open(\"data\\col1.txt\") as col1, open(\"data\\col2.txt\") as col2, open(\"data\\merge.txt\", mode=\"w\") as f:\n",
    "    for line1, line2 in zip(col1, col2):\n",
    "        f.write(line1.strip() + \"\\t\" + line2.strip() + \"\\n\")"
   ]
  },
  {
   "cell_type": "markdown",
   "metadata": {},
   "source": [
    "## 14. 先頭からN行を出力"
   ]
  },
  {
   "cell_type": "code",
   "execution_count": 7,
   "metadata": {},
   "outputs": [
    {
     "name": "stdout",
     "output_type": "stream",
     "text": [
      "5\n",
      "Mary\tF\t7065\t1880\n",
      "\n",
      "Anna\tF\t2604\t1880\n",
      "\n",
      "Emma\tF\t2003\t1880\n",
      "\n",
      "Elizabeth\tF\t1939\t1880\n",
      "\n",
      "Minnie\tF\t1746\t1880\n",
      "\n"
     ]
    }
   ],
   "source": [
    "N = int(input())\n",
    "for d in data[:N]:\n",
    "    print(d)"
   ]
  },
  {
   "cell_type": "markdown",
   "metadata": {},
   "source": [
    "## 15. 末尾からN行出力"
   ]
  },
  {
   "cell_type": "code",
   "execution_count": 8,
   "metadata": {},
   "outputs": [
    {
     "name": "stdout",
     "output_type": "stream",
     "text": [
      "5\n",
      "Benjamin\tM\t13381\t2018\n",
      "\n",
      "Elijah\tM\t12886\t2018\n",
      "\n",
      "Lucas\tM\t12585\t2018\n",
      "\n",
      "Mason\tM\t12435\t2018\n",
      "\n",
      "Logan\tM\t12352\t2018\n"
     ]
    }
   ],
   "source": [
    "N = int(input())\n",
    "for d in data[-N:]:\n",
    "    print(d)"
   ]
  },
  {
   "cell_type": "markdown",
   "metadata": {},
   "source": [
    "## 16. ファイルをN分割する"
   ]
  },
  {
   "cell_type": "code",
   "execution_count": 19,
   "metadata": {},
   "outputs": [
    {
     "name": "stdout",
     "output_type": "stream",
     "text": [
      "28\n"
     ]
    }
   ],
   "source": [
    "N = int(input())\n",
    "count = len(data)\n",
    "unit = len(data) // N"
   ]
  },
  {
   "cell_type": "code",
   "execution_count": 21,
   "metadata": {},
   "outputs": [],
   "source": [
    "for i in range(0, count, unit):\n",
    "    j = 1\n",
    "    with open(\"data\\\\file_{}.txt\".format(j), mode=\"w\") as f:\n",
    "        for d in data[i:i + unit]:\n",
    "            f.write(d)\n",
    "    j += 1"
   ]
  },
  {
   "cell_type": "markdown",
   "metadata": {},
   "source": [
    "## 17. １列目の文字列の異なり"
   ]
  },
  {
   "cell_type": "code",
   "execution_count": 49,
   "metadata": {},
   "outputs": [
    {
     "name": "stdout",
     "output_type": "stream",
     "text": [
      "{'Noah', 'Donna', 'Ruth', 'Alexander', 'Heather', 'Edward', 'Nicholas', 'Emma', 'James', 'Hannah', 'Daniel', 'Doris', 'Carolyn', 'Karen', 'Michael', 'Megan', 'Chloe', 'Ethel', 'Laura', 'Carol', 'Sarah', 'Virginia', 'Mary', 'Patricia', 'Lucas', 'Brandon', 'Aiden', 'Melissa', 'Madison', 'Nicole', 'Kathleen', 'Anthony', 'Amelia', 'Deborah', 'Crystal', 'Stephanie', 'Joan', 'Ida', 'Elizabeth', 'Jessica', 'Joshua', 'Julie', 'Michelle', 'Frances', 'Florence', 'Helen', 'Cynthia', 'Shirley', 'Evelyn', 'Charlotte', 'Charles', 'Jeffrey', 'Kimberly', 'Clara', 'Donald', 'Larry', 'Harper', 'Brian', 'Brittany', 'Bessie', 'Anna', 'Isabella', 'Lauren', 'Jayden', 'Amy', 'Elijah', 'Andrew', 'Rachel', 'John', 'Jason', 'Amanda', 'Ashley', 'Logan', 'Alice', 'Olivia', 'Annie', 'Margaret', 'George', 'Kelly', 'Lisa', 'Tammy', 'Austin', 'Samantha', 'Walter', 'Alexis', 'Mark', 'Joseph', 'Henry', 'Liam', 'Mildred', 'Bertha', 'Emily', 'Sophia', 'Susan', 'Judith', 'Mason', 'Sandra', 'Minnie', 'Harry', 'Lori', 'Gary', 'Ronald', 'Jacob', 'Lillian', 'Justin', 'Thomas', 'Debra', 'Tracy', 'Betty', 'Scott', 'Nancy', 'Matthew', 'Richard', 'Robert', 'Rebecca', 'Christopher', 'Pamela', 'Tyler', 'Ava', 'Frank', 'Sharon', 'Abigail', 'Barbara', 'Benjamin', 'Dorothy', 'Oliver', 'Taylor', 'David', 'Angela', 'Ethan', 'Marie', 'Steven', 'William', 'Linda', 'Jennifer', 'Mia'}\n"
     ]
    }
   ],
   "source": [
    "set_column1 = set(col1)\n",
    "print(set_column1)"
   ]
  },
  {
   "cell_type": "markdown",
   "metadata": {},
   "source": [
    "## 18. 各行を3カラム目の数値の降順にソート"
   ]
  },
  {
   "cell_type": "code",
   "execution_count": 55,
   "metadata": {},
   "outputs": [
    {
     "data": {
      "text/plain": [
       "['Linda\\tF\\t99689\\t1947\\n',\n",
       " 'Linda\\tF\\t96211\\t1948\\n',\n",
       " 'James\\tM\\t94757\\t1947\\n',\n",
       " 'Michael\\tM\\t92704\\t1957\\n',\n",
       " 'Robert\\tM\\t91640\\t1947\\n']"
      ]
     },
     "execution_count": 55,
     "metadata": {},
     "output_type": "execute_result"
    }
   ],
   "source": [
    "data.sort(key= lambda x: int(x.split(\"\\t\")[2]), reverse=True)\n",
    "data[0:5]"
   ]
  },
  {
   "cell_type": "markdown",
   "metadata": {},
   "source": [
    "## 19. 各行の1カラム目の文字列の出現頻度を求め，出現頻度の高い順に並べる"
   ]
  },
  {
   "cell_type": "code",
   "execution_count": 58,
   "metadata": {},
   "outputs": [
    {
     "data": {
      "text/plain": [
       "[('James', 118),\n",
       " ('William', 111),\n",
       " ('John', 108),\n",
       " ('Robert', 108),\n",
       " ('Mary', 92),\n",
       " ('Charles', 75),\n",
       " ('Michael', 74),\n",
       " ('Elizabeth', 73),\n",
       " ('Joseph', 70),\n",
       " ('Margaret', 60),\n",
       " ('George', 58),\n",
       " ('Thomas', 58),\n",
       " ('David', 57),\n",
       " ('Richard', 51),\n",
       " ('Helen', 45),\n",
       " ('Frank', 43),\n",
       " ('Christopher', 43),\n",
       " ('Anna', 41),\n",
       " ('Edward', 40),\n",
       " ('Ruth', 39),\n",
       " ('Patricia', 38),\n",
       " ('Matthew', 37),\n",
       " ('Dorothy', 36),\n",
       " ('Emma', 35),\n",
       " ('Barbara', 32),\n",
       " ('Daniel', 31),\n",
       " ('Joshua', 31),\n",
       " ('Sarah', 26),\n",
       " ('Linda', 26),\n",
       " ('Jennifer', 26),\n",
       " ('Emily', 26),\n",
       " ('Jessica', 25),\n",
       " ('Jacob', 25),\n",
       " ('Mildred', 24),\n",
       " ('Betty', 24),\n",
       " ('Susan', 24),\n",
       " ('Henry', 23),\n",
       " ('Ashley', 23),\n",
       " ('Nancy', 22),\n",
       " ('Andrew', 21),\n",
       " ('Florence', 20),\n",
       " ('Marie', 20),\n",
       " ('Donald', 20),\n",
       " ('Amanda', 20),\n",
       " ('Samantha', 19),\n",
       " ('Karen', 18),\n",
       " ('Lisa', 18),\n",
       " ('Melissa', 18),\n",
       " ('Madison', 18),\n",
       " ('Olivia', 18),\n",
       " ('Stephanie', 17),\n",
       " ('Abigail', 17),\n",
       " ('Ethel', 16),\n",
       " ('Sandra', 16),\n",
       " ('Mark', 16),\n",
       " ('Frances', 15),\n",
       " ('Carol', 15),\n",
       " ('Angela', 15),\n",
       " ('Michelle', 15),\n",
       " ('Heather', 15),\n",
       " ('Ethan', 15),\n",
       " ('Isabella', 15),\n",
       " ('Shirley', 14),\n",
       " ('Kimberly', 14),\n",
       " ('Amy', 14),\n",
       " ('Ava', 14),\n",
       " ('Virginia', 13),\n",
       " ('Deborah', 13),\n",
       " ('Brian', 13),\n",
       " ('Jason', 13),\n",
       " ('Nicole', 13),\n",
       " ('Hannah', 13),\n",
       " ('Sophia', 13),\n",
       " ('Minnie', 12),\n",
       " ('Bertha', 12),\n",
       " ('Donna', 12),\n",
       " ('Cynthia', 11),\n",
       " ('Alice', 10),\n",
       " ('Doris', 10),\n",
       " ('Ronald', 10),\n",
       " ('Brittany', 10),\n",
       " ('Nicholas', 10),\n",
       " ('Mia', 10),\n",
       " ('Noah', 10),\n",
       " ('Joan', 9),\n",
       " ('Debra', 9),\n",
       " ('Tyler', 9),\n",
       " ('Ida', 8),\n",
       " ('Clara', 8),\n",
       " ('Judith', 8),\n",
       " ('Taylor', 8),\n",
       " ('Alexis', 8),\n",
       " ('Alexander', 8),\n",
       " ('Mason', 8),\n",
       " ('Harry', 7),\n",
       " ('Sharon', 7),\n",
       " ('Steven', 7),\n",
       " ('Tammy', 7),\n",
       " ('Brandon', 7),\n",
       " ('Liam', 7),\n",
       " ('Anthony', 6),\n",
       " ('Annie', 5),\n",
       " ('Gary', 5),\n",
       " ('Jeffrey', 5),\n",
       " ('Jayden', 5),\n",
       " ('Charlotte', 5),\n",
       " ('Lillian', 4),\n",
       " ('Kathleen', 4),\n",
       " ('Justin', 4),\n",
       " ('Austin', 4),\n",
       " ('Chloe', 4),\n",
       " ('Benjamin', 4),\n",
       " ('Evelyn', 3),\n",
       " ('Megan', 3),\n",
       " ('Aiden', 3),\n",
       " ('Harper', 3),\n",
       " ('Elijah', 3),\n",
       " ('Bessie', 2),\n",
       " ('Larry', 2),\n",
       " ('Rebecca', 2),\n",
       " ('Lauren', 2),\n",
       " ('Amelia', 2),\n",
       " ('Logan', 2),\n",
       " ('Oliver', 2),\n",
       " ('Walter', 1),\n",
       " ('Carolyn', 1),\n",
       " ('Pamela', 1),\n",
       " ('Lori', 1),\n",
       " ('Laura', 1),\n",
       " ('Tracy', 1),\n",
       " ('Julie', 1),\n",
       " ('Scott', 1),\n",
       " ('Kelly', 1),\n",
       " ('Crystal', 1),\n",
       " ('Rachel', 1),\n",
       " ('Lucas', 1)]"
      ]
     },
     "execution_count": 58,
     "metadata": {},
     "output_type": "execute_result"
    }
   ],
   "source": [
    "import collections\n",
    "common = collections.Counter(col1).most_common()\n",
    "common"
   ]
  }
 ],
 "metadata": {
  "kernelspec": {
   "display_name": "Python 3.7.5 64-bit",
   "language": "python",
   "name": "python37564bitfb5ec1fdbad24a30a57e6cc7fff4e243"
  },
  "language_info": {
   "codemirror_mode": {
    "name": "ipython",
    "version": 3
   },
   "file_extension": ".py",
   "mimetype": "text/x-python",
   "name": "python",
   "nbconvert_exporter": "python",
   "pygments_lexer": "ipython3",
   "version": "3.7.5"
  }
 },
 "nbformat": 4,
 "nbformat_minor": 4
}
