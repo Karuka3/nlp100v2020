{
 "cells": [
  {
   "cell_type": "markdown",
   "metadata": {},
   "source": [
    "# 第4章: 形態素解析"
   ],
   "execution_count": null,
   "outputs": []
  },
  {
   "cell_type": "code",
   "execution_count": null,
   "metadata": {},
   "outputs": [],
   "source": [
    "import MeCab\n",
    "import matplotlib.pyplot as plt\n",
    "from collections import defaultdict"
   ]
  },
  {
   "cell_type": "code",
   "execution_count": null,
   "metadata": {},
   "outputs": [],
   "source": [
    "filename = \"data\\\\neko.txt\"\n",
    "parsed = \"data\\\\neko.txt.mecab\"\n",
    "mecab = MeCab.Tagger()"
   ]
  },
  {
   "cell_type": "code",
   "execution_count": null,
   "metadata": {},
   "outputs": [],
   "source": [
    "with open(filename, encoding=\"utf-8\") as data, open(parsed, mode=\"w\",encoding=\"utf-8\") as output:\n",
    "    output.write(mecab.parse(data.read()))"
   ]
  },
  {
   "cell_type": "markdown",
   "metadata": {},
   "source": [
    "## 30. 形態素解析結果の読み込み"
   ],
   "execution_count": null,
   "outputs": []
  },
  {
   "cell_type": "code",
   "execution_count": null,
   "metadata": {},
   "outputs": [],
   "source": [
    "with open(parsed, encoding=\"utf-8\") as parsed_file:\n",
    "    parsed_data = parsed_file.readlines()\n",
    "parsed_data = list(filter(lambda x: x != \"\", parsed_data))\n",
    "parsed_data = list(filter(lambda x: \"EOS\" not in x, parsed_data))"
   ]
  },
  {
   "cell_type": "code",
   "execution_count": null,
   "metadata": {},
   "outputs": [],
   "source": [
    "def parsed(data):\n",
    "    morpheme = []\n",
    "    for line in data:\n",
    "        tmp = line.split(\"\\t\")\n",
    "        surface = tmp[0]\n",
    "        attr = tmp[1]\n",
    "        attr = attr.split(\",\")\n",
    "        morpheme.append({\"surface\": surface,\n",
    "                         \"base\": attr[6],\n",
    "                         \"pos\": attr[0],\n",
    "                         \"pos1\": attr[1]})\n",
    "        if attr[1] == \"句点\":\n",
    "            yield morpheme\n",
    "            morpheme = []"
   ]
  },
  {
   "cell_type": "code",
   "execution_count": null,
   "metadata": {
    "tags": [
     "outputPrepend"
    ]
   },
   "outputs": [],
   "source": [
    "parsed_neko = [line for line in parsed(parsed_data)]"
   ]
  },
  {
   "cell_type": "markdown",
   "metadata": {},
   "source": [
    "## 31. 動詞"
   ],
   "execution_count": null,
   "outputs": []
  },
  {
   "cell_type": "code",
   "execution_count": null,
   "metadata": {},
   "outputs": [],
   "source": [
    "verb_surface = []\n",
    "for sentence in parsed_neko:\n",
    "    verb = list(filter(lambda x: x[\"pos\"] == \"動詞\", sentence))\n",
    "    surface = [sur[\"surface\"] for sur in verb]\n",
    "    verb_surface.append(surface)"
   ]
  },
  {
   "cell_type": "markdown",
   "metadata": {},
   "source": [
    "## 32. 動詞の原形"
   ],
   "execution_count": null,
   "outputs": []
  },
  {
   "cell_type": "code",
   "execution_count": null,
   "metadata": {},
   "outputs": [],
   "source": [
    "verb_base = []\n",
    "for sentence in parsed_neko:\n",
    "    verb = list(filter(lambda x: x[\"pos\"] == \"動詞\", sentence))\n",
    "    base = [bas[\"base\"] for bas in verb]\n",
    "    verb_base.append(base)"
   ]
  },
  {
   "cell_type": "markdown",
   "metadata": {},
   "source": [
    "## 33. 「AのB」"
   ],
   "execution_count": null,
   "outputs": []
  },
  {
   "cell_type": "code",
   "execution_count": null,
   "metadata": {},
   "outputs": [],
   "source": [
    "noun_phrases = []\n",
    "for sentence in parsed_neko:\n",
    "    for i in range(1, len(sentence)-1):\n",
    "        if sentence[i-1][\"pos\"] == \"名詞\" and sentence[i][\"surface\"] == \"の\" and sentence[i+1][\"pos\"] == \"名詞\":\n",
    "            noun_phrases.append(sentence[i-1][\"surface\"] + \"の\" + sentence[i+1][\"surface\"])"
   ]
  },
  {
   "cell_type": "markdown",
   "metadata": {},
   "source": [
    "## 34. 名詞の連接"
   ],
   "execution_count": null,
   "outputs": []
  },
  {
   "cell_type": "code",
   "execution_count": null,
   "metadata": {},
   "outputs": [],
   "source": [
    "nouns = []\n",
    "tmp = []\n",
    "for sentence in parsed_neko:\n",
    "    for parse in sentence:\n",
    "        if parse[\"pos\"] == \"名詞\":\n",
    "            tmp.append(parse[\"surface\"])\n",
    "        elif len(tmp) >= 2:\n",
    "            nouns.append(\"\".join(tmp))\n",
    "            tmp = []\n",
    "        else:\n",
    "            tmp = []"
   ]
  },
  {
   "cell_type": "markdown",
   "metadata": {},
   "source": [
    "## 35. 単語の出現頻度"
   ],
   "execution_count": null,
   "outputs": []
  },
  {
   "cell_type": "code",
   "execution_count": null,
   "metadata": {},
   "outputs": [],
   "source": [
    "words = []\n",
    "for sentence in parsed_neko:\n",
    "    for word in sentence:\n",
    "        words.append(word[\"base\"])"
   ]
  },
  {
   "cell_type": "code",
   "execution_count": null,
   "metadata": {},
   "outputs": [],
   "source": [
    "d = defaultdict(int)\n",
    "for word in words:\n",
    "    d[word] += 1\n",
    "wordscount = sorted(d.items(), key=lambda x:x[1], reverse=True)"
   ]
  },
  {
   "cell_type": "markdown",
   "metadata": {},
   "source": [
    "## 36. 頻度上位10語"
   ],
   "execution_count": null,
   "outputs": []
  },
  {
   "cell_type": "code",
   "execution_count": null,
   "metadata": {},
   "outputs": [],
   "source": [
    "keys = [key[0] for key in wordscount]\n",
    "counts = [key[1] for key in wordscount]"
   ]
  },
  {
   "cell_type": "code",
   "execution_count": null,
   "metadata": {},
   "outputs": [],
   "source": [
    "wordscount[:10]"
   ]
  },
  {
   "cell_type": "code",
   "execution_count": null,
   "metadata": {},
   "outputs": [],
   "source": [
    "plt.figure(figsize=(10,10))\n",
    "plt.barh(keys[:10], counts[:10])\n",
    "plt.show()"
   ]
  },
  {
   "cell_type": "markdown",
   "metadata": {},
   "source": [
    "## 37. 「猫」と共起頻度の高い上位10語"
   ],
   "execution_count": null,
   "outputs": []
  },
  {
   "cell_type": "code",
   "execution_count": null,
   "metadata": {},
   "outputs": [],
   "source": [
    "neko = []\n",
    "for sentence in parsed_neko:\n",
    "    for word in sentence:\n",
    "        if word[\"surface\"] == \"猫\":\n",
    "            neko.append(sentence)\n",
    "            break"
   ]
  },
  {
   "cell_type": "code",
   "execution_count": null,
   "metadata": {},
   "outputs": [],
   "source": [
    "neko_dict = defaultdict(int)\n",
    "for sentence in neko:\n",
    "    for word in sentence:\n",
    "        if word[\"surface\"] != \"猫\":\n",
    "            neko_dict[word[\"surface\"]] += 1\n",
    "co_neko = sorted(neko_dict.items(), key=lambda x:x[1], reverse=True)"
   ]
  },
  {
   "cell_type": "markdown",
   "metadata": {},
   "source": [
    "## 38. ヒストグラム"
   ],
   "execution_count": null,
   "outputs": []
  },
  {
   "cell_type": "code",
   "execution_count": null,
   "metadata": {},
   "outputs": [],
   "source": [
    "plt.figure(figsize=(10,10))\n",
    "plt.hist(counts, bins=100)\n",
    "plt.show()"
   ]
  },
  {
   "cell_type": "markdown",
   "metadata": {},
   "source": [
    "## 39. Zipfの法則"
   ],
   "execution_count": null,
   "outputs": []
  },
  {
   "cell_type": "code",
   "execution_count": null,
   "metadata": {},
   "outputs": [],
   "source": [
    "plt.figure(figsize=(10,10))\n",
    "plt.scatter(x=range(1, len(counts) + 1),y=counts)\n",
    "plt.xscale(\"log\")\n",
    "plt.yscale(\"log\")\n",
    "plt.grid(axis=\"both\")\n",
    "plt.show()"
   ]
  },
  {
   "cell_type": "code",
   "execution_count": null,
   "metadata": {},
   "outputs": [],
   "source": []
  }
 ],
 "metadata": {
  "file_extension": ".py",
  "kernelspec": {
   "display_name": "Python 3.7.5 64-bit",
   "language": "python",
   "name": "python37564bitfb5ec1fdbad24a30a57e6cc7fff4e243"
  },
  "language_info": {
   "codemirror_mode": {
    "name": "ipython",
    "version": 3
   },
   "file_extension": ".py",
   "mimetype": "text/x-python",
   "name": "python",
   "nbconvert_exporter": "python",
   "pygments_lexer": "ipython3",
   "version": "3.7.5-final"
  },
  "mimetype": "text/x-python",
  "name": "python",
  "npconvert_exporter": "python",
  "pygments_lexer": "ipython3",
  "version": 3
 },
 "nbformat": 4,
 "nbformat_minor": 2
}