{
 "cells": [
  {
   "cell_type": "markdown",
   "metadata": {},
   "source": [
    "# 第1章: 準備運動"
   ]
  },
  {
   "cell_type": "markdown",
   "metadata": {},
   "source": [
    "## 00.文字列の逆順"
   ]
  },
  {
   "cell_type": "code",
   "execution_count": 1,
   "metadata": {},
   "outputs": [
    {
     "name": "stdout",
     "output_type": "stream",
     "text": [
      "desserts\n"
     ]
    }
   ],
   "source": [
    "target = \"stressed\"\n",
    "print(target[::-1])"
   ]
  },
  {
   "cell_type": "markdown",
   "metadata": {},
   "source": [
    "## 01. 「パタトクカシーー」"
   ]
  },
  {
   "cell_type": "code",
   "execution_count": 5,
   "metadata": {},
   "outputs": [
    {
     "name": "stdout",
     "output_type": "stream",
     "text": [
      "パトカ－\n"
     ]
    }
   ],
   "source": [
    "target = \"パタトクカシ－－\"\n",
    "print(target[::2])"
   ]
  },
  {
   "cell_type": "markdown",
   "metadata": {},
   "source": [
    "## 02. 「パトカー」＋「タクシー」＝「パタトクカシーー」"
   ]
  },
  {
   "cell_type": "code",
   "execution_count": 4,
   "metadata": {},
   "outputs": [
    {
     "name": "stdout",
     "output_type": "stream",
     "text": [
      "パタトクカシーー\n"
     ]
    }
   ],
   "source": [
    "from functools import reduce\n",
    "target1 = \"パトカー\"\n",
    "target2 = \"タクシー\"\n",
    "result = \"\".join(reduce(lambda x, y: x + y, zip(target1, target2)))\n",
    "print(result)"
   ]
  },
  {
   "cell_type": "markdown",
   "metadata": {},
   "source": [
    "## 03. 円周率"
   ]
  },
  {
   "cell_type": "code",
   "execution_count": 6,
   "metadata": {},
   "outputs": [
    {
     "name": "stdout",
     "output_type": "stream",
     "text": [
      "[3, 1, 4, 1, 6, 9, 2, 7, 5, 3, 5, 8, 9, 7, 9]\n"
     ]
    }
   ],
   "source": [
    "target = \"Now I need a drink, alcoholic of course, after the heavy lectures involving quantum mechanics\"\n",
    "word = target.split()\n",
    "result = [len(w) for w in word]\n",
    "print(result)"
   ]
  },
  {
   "cell_type": "markdown",
   "metadata": {},
   "source": [
    "## 04. 元素記号"
   ]
  },
  {
   "cell_type": "code",
   "execution_count": 1,
   "metadata": {},
   "outputs": [
    {
     "name": "stdout",
     "output_type": "stream",
     "text": [
      "{1: 'H', 2: 'He', 3: 'Li', 4: 'Be', 5: 'B', 6: 'C', 7: 'N', 8: 'O', 9: 'F', 10: 'Ne', 11: 'Na', 12: 'Mi', 13: 'Al', 14: 'Si', 15: 'P', 16: 'S', 17: 'Cl', 18: 'Ar', 19: 'K', 20: 'Ca'}\n"
     ]
    }
   ],
   "source": [
    "target = \"Hi He Lied Because Boron Could Not Oxidize Fluorine. New Nations Might Also Sign Peace Security Clause. Arthur King Can.\"\n",
    "num = [1, 5, 6, 7, 8, 9, 15, 16, 19]\n",
    "word = target.split()\n",
    "result = {}\n",
    "for i, w in enumerate(word):\n",
    "    if i + 1 in num:\n",
    "        result[i + 1] = w[0]\n",
    "    else:\n",
    "        result[i + 1] = w[0:2]\n",
    "print(result)"
   ]
  },
  {
   "cell_type": "markdown",
   "metadata": {},
   "source": [
    "## 05.n-gram"
   ]
  },
  {
   "cell_type": "code",
   "execution_count": 2,
   "metadata": {},
   "outputs": [],
   "source": [
    "def n_gram(n, target):\n",
    "    return [target[i:i + n] for i in range(len(target) - n + 1)]"
   ]
  },
  {
   "cell_type": "code",
   "execution_count": 3,
   "metadata": {},
   "outputs": [
    {
     "name": "stdout",
     "output_type": "stream",
     "text": [
      "[['I', 'am'], ['am', 'an'], ['an', 'NLPer']]\n",
      "['I ', ' a', 'am', 'm ', ' a', 'an', 'n ', ' N', 'NL', 'LP', 'Pe', 'er']\n"
     ]
    }
   ],
   "source": [
    "target = \"I am an NLPer\"\n",
    "print(n_gram(2, target.split()))\n",
    "print(n_gram(2, target))"
   ]
  },
  {
   "cell_type": "markdown",
   "metadata": {},
   "source": [
    "## 06. 集合"
   ]
  },
  {
   "cell_type": "code",
   "execution_count": 4,
   "metadata": {},
   "outputs": [],
   "source": [
    "target1 = \"paraparaparadise\"\n",
    "target2 = \"paragraph\"\n",
    "X = set(n_gram(2, target1))\n",
    "Y = set(n_gram(2, target2))"
   ]
  },
  {
   "cell_type": "code",
   "execution_count": 5,
   "metadata": {},
   "outputs": [
    {
     "name": "stdout",
     "output_type": "stream",
     "text": [
      "X:{'is', 'ar', 'ap', 'ad', 'se', 'di', 'pa', 'ra'}\n",
      "Y:{'ag', 'ar', 'ap', 'ph', 'gr', 'pa', 'ra'}\n"
     ]
    }
   ],
   "source": [
    "print(\"X:\" + str(X))\n",
    "print(\"Y:\" + str(Y))"
   ]
  },
  {
   "cell_type": "code",
   "execution_count": 6,
   "metadata": {},
   "outputs": [
    {
     "name": "stdout",
     "output_type": "stream",
     "text": [
      "和集合:{'ag', 'is', 'ar', 'ap', 'ad', 'ph', 'se', 'gr', 'di', 'pa', 'ra'}\n",
      "積集合:{'ar', 'ap', 'pa', 'ra'}\n",
      "差集合:{'se', 'di', 'ad', 'is'}\n"
     ]
    }
   ],
   "source": [
    "# 和集合\n",
    "print(\"和集合:\" + str(set.union(X, Y)))\n",
    "# 積集合\n",
    "print(\"積集合:\" + str(set.intersection(X, Y)))\n",
    "# 差集合\n",
    "print(\"差集合:\" + str(set.difference(X, Y)))"
   ]
  },
  {
   "cell_type": "code",
   "execution_count": 7,
   "metadata": {},
   "outputs": [
    {
     "name": "stdout",
     "output_type": "stream",
     "text": [
      "True\n",
      "False\n"
     ]
    }
   ],
   "source": [
    "print(\"se\" in X)\n",
    "print(\"se\" in Y)"
   ]
  },
  {
   "cell_type": "markdown",
   "metadata": {},
   "source": [
    "## 07. テンプレートによる文生成"
   ]
  },
  {
   "cell_type": "code",
   "execution_count": 8,
   "metadata": {},
   "outputs": [],
   "source": [
    "def template(x, y, z):\n",
    "    print(\"{}時の{}は{}\".format(x, y, z))"
   ]
  },
  {
   "cell_type": "code",
   "execution_count": 9,
   "metadata": {},
   "outputs": [
    {
     "name": "stdout",
     "output_type": "stream",
     "text": [
      "12時の気温は22.4\n"
     ]
    }
   ],
   "source": [
    "template(12, \"気温\", 22.4)"
   ]
  },
  {
   "cell_type": "markdown",
   "metadata": {},
   "source": [
    "## 08. 暗号文"
   ]
  },
  {
   "cell_type": "code",
   "execution_count": 10,
   "metadata": {},
   "outputs": [],
   "source": [
    "def chpher(target):\n",
    "    result = \"\"\n",
    "    for w in target:\n",
    "        if w.islower():\n",
    "            result += chr(219 - ord(w))\n",
    "        else:\n",
    "            result += w\n",
    "    return result"
   ]
  },
  {
   "cell_type": "code",
   "execution_count": 11,
   "metadata": {},
   "outputs": [
    {
     "name": "stdout",
     "output_type": "stream",
     "text": [
      "I am a Human.\n",
      "I zn z Hfnzm.\n"
     ]
    }
   ],
   "source": [
    "target = input()\n",
    "print(chpher(target))"
   ]
  },
  {
   "cell_type": "markdown",
   "metadata": {},
   "source": [
    "## 09. Typoglycemia"
   ]
  },
  {
   "cell_type": "code",
   "execution_count": 14,
   "metadata": {},
   "outputs": [],
   "source": [
    "import random\n",
    "def Typoglycemia(target):\n",
    "    result = []\n",
    "    for w in target.split():\n",
    "        if len(w) <= 4:\n",
    "            result.append(w)\n",
    "        else:\n",
    "            inner = list(w[1:-1])\n",
    "            random.shuffle(inner)\n",
    "            result.append(w[0] + \"\".join(inner) + w[-1])\n",
    "    return result"
   ]
  },
  {
   "cell_type": "code",
   "execution_count": 16,
   "metadata": {},
   "outputs": [
    {
     "name": "stdout",
     "output_type": "stream",
     "text": [
      "['I', \"coln'dut\", 'blveiee', 'that', 'I', 'cloud', 'atclualy', 'uasndtenrd', 'what', 'I', 'was', 'rdnieag', ':', 'the', 'pmonnhaeel', 'peowr', 'of', 'the', 'hamun', 'mind', '.']\n"
     ]
    }
   ],
   "source": [
    "target = \"I couldn't believe that I could actually understand what I was reading : the phenomenal power of the human mind .\"\n",
    "print(Typoglycemia(target))"
   ]
  },
  {
   "cell_type": "code",
   "execution_count": null,
   "metadata": {},
   "outputs": [],
   "source": []
  }
 ],
 "metadata": {
  "kernelspec": {
   "display_name": "Python 3.7.5 64-bit",
   "language": "python",
   "name": "python37564bitfb5ec1fdbad24a30a57e6cc7fff4e243"
  },
  "language_info": {
   "codemirror_mode": {
    "name": "ipython",
    "version": 3
   },
   "file_extension": ".py",
   "mimetype": "text/x-python",
   "name": "python",
   "nbconvert_exporter": "python",
   "pygments_lexer": "ipython3",
   "version": "3.7.5"
  }
 },
 "nbformat": 4,
 "nbformat_minor": 4
}
